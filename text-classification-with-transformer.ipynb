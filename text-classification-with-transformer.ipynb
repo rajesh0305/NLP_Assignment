{
 "cells": [
  {
   "cell_type": "code",
   "execution_count": 1,
   "id": "48cd8632",
   "metadata": {
    "_cell_guid": "b1076dfc-b9ad-4769-8c92-a6c4dae69d19",
    "_uuid": "8f2839f25d086af736a60e9eeb907d3b93b6e0e5",
    "execution": {
     "iopub.execute_input": "2025-02-16T15:12:45.308717Z",
     "iopub.status.busy": "2025-02-16T15:12:45.308424Z",
     "iopub.status.idle": "2025-02-16T15:12:46.062828Z",
     "shell.execute_reply": "2025-02-16T15:12:46.062093Z"
    },
    "papermill": {
     "duration": 0.761281,
     "end_time": "2025-02-16T15:12:46.064561",
     "exception": false,
     "start_time": "2025-02-16T15:12:45.303280",
     "status": "completed"
    },
    "tags": []
   },
   "outputs": [],
   "source": [
    "# This Python 3 environment comes with many helpful analytics libraries installed\n",
    "# It is defined by the kaggle/python Docker image: https://github.com/kaggle/docker-python\n",
    "# For example, here's several helpful packages to load\n",
    "\n",
    "import numpy as np # linear algebra\n",
    "import pandas as pd # data processing, CSV file I/O (e.g. pd.read_csv)\n",
    "\n",
    "# Input data files are available in the read-only \"../input/\" directory\n",
    "# For example, running this (by clicking run or pressing Shift+Enter) will list all files under the input directory\n",
    "\n",
    "import os\n",
    "for dirname, _, filenames in os.walk('/kaggle/input'):\n",
    "    for filename in filenames:\n",
    "        print(os.path.join(dirname, filename))\n",
    "\n",
    "# You can write up to 20GB to the current directory (/kaggle/working/) that gets preserved as output when you create a version using \"Save & Run All\" \n",
    "# You can also write temporary files to /kaggle/temp/, but they won't be saved outside of the current session"
   ]
  },
  {
   "cell_type": "markdown",
   "id": "b0d3175e",
   "metadata": {
    "papermill": {
     "duration": 0.003243,
     "end_time": "2025-02-16T15:12:46.071789",
     "exception": false,
     "start_time": "2025-02-16T15:12:46.068546",
     "status": "completed"
    },
    "tags": []
   },
   "source": [
    "**Author:** [Rajesh Kumar](https://www.linkedin.com/in/rajesh-kumar-564b8a188/)<br>\n",
    "**Date created:** 2023/05/10<br>\n",
    "**Last modified:** 2025/02/16<br>\n",
    "**Description:** Implement a Transformer block as a Keras layer and use it for text classification"
   ]
  },
  {
   "cell_type": "markdown",
   "id": "de6d5221",
   "metadata": {
    "papermill": {
     "duration": 0.003158,
     "end_time": "2025-02-16T15:12:46.078360",
     "exception": false,
     "start_time": "2025-02-16T15:12:46.075202",
     "status": "completed"
    },
    "tags": []
   },
   "source": [
    "# Setup"
   ]
  },
  {
   "cell_type": "code",
   "execution_count": 2,
   "id": "350af4da",
   "metadata": {
    "execution": {
     "iopub.execute_input": "2025-02-16T15:12:46.086170Z",
     "iopub.status.busy": "2025-02-16T15:12:46.085688Z",
     "iopub.status.idle": "2025-02-16T15:12:58.556374Z",
     "shell.execute_reply": "2025-02-16T15:12:58.555554Z"
    },
    "papermill": {
     "duration": 12.476361,
     "end_time": "2025-02-16T15:12:58.557964",
     "exception": false,
     "start_time": "2025-02-16T15:12:46.081603",
     "status": "completed"
    },
    "tags": []
   },
   "outputs": [],
   "source": [
    "import keras\n",
    "from keras import ops, layers\n",
    "\n",
    "# from keras import ops\n",
    "# from keras import layer"
   ]
  },
  {
   "cell_type": "markdown",
   "id": "ecd8a5b4",
   "metadata": {
    "papermill": {
     "duration": 0.003085,
     "end_time": "2025-02-16T15:12:58.564660",
     "exception": false,
     "start_time": "2025-02-16T15:12:58.561575",
     "status": "completed"
    },
    "tags": []
   },
   "source": [
    "# Implement a Transformer block as a layer"
   ]
  },
  {
   "cell_type": "code",
   "execution_count": 3,
   "id": "93287913",
   "metadata": {
    "execution": {
     "iopub.execute_input": "2025-02-16T15:12:58.572294Z",
     "iopub.status.busy": "2025-02-16T15:12:58.571708Z",
     "iopub.status.idle": "2025-02-16T15:12:58.577635Z",
     "shell.execute_reply": "2025-02-16T15:12:58.576900Z"
    },
    "papermill": {
     "duration": 0.011228,
     "end_time": "2025-02-16T15:12:58.579030",
     "exception": false,
     "start_time": "2025-02-16T15:12:58.567802",
     "status": "completed"
    },
    "tags": []
   },
   "outputs": [],
   "source": [
    "class TransformerBlock(layers.Layer):\n",
    "    def __init__(self, embed_dim, num_heads, ff_dim, rate=0.1):\n",
    "        super().__init__()\n",
    "        self.att = layers.MultiHeadAttention(num_heads=num_heads, key_dim=embed_dim)\n",
    "        self.ffn = keras.Sequential(\n",
    "            [layers.Dense(ff_dim, activation=\"relu\"), layers.Dense(embed_dim),]\n",
    "        )\n",
    "        self.layernorm1 = layers.LayerNormalization(epsilon=1e-6)\n",
    "        self.layernorm2 = layers.LayerNormalization(epsilon=1e-6)\n",
    "        self.dropout1 = layers.Dropout(rate)\n",
    "        self.dropout2 = layers.Dropout(rate)\n",
    "\n",
    "    def call(self, inputs):\n",
    "        attn_output = self.att(inputs, inputs)\n",
    "        attn_output = self.dropout1(attn_output)\n",
    "        out1 = self.layernorm1(inputs + attn_output)\n",
    "        ffn_output = self.ffn(out1)\n",
    "        ffn_output = self.dropout2(ffn_output)\n",
    "        return self.layernorm2(out1 + ffn_output)"
   ]
  },
  {
   "cell_type": "markdown",
   "id": "82efdfdd",
   "metadata": {
    "papermill": {
     "duration": 0.003057,
     "end_time": "2025-02-16T15:12:58.585695",
     "exception": false,
     "start_time": "2025-02-16T15:12:58.582638",
     "status": "completed"
    },
    "tags": []
   },
   "source": [
    "# Implement embedding layer\n",
    "Two embedding layers, one for tokens, one for token index (positions)."
   ]
  },
  {
   "cell_type": "code",
   "execution_count": 4,
   "id": "d4775945",
   "metadata": {
    "execution": {
     "iopub.execute_input": "2025-02-16T15:12:58.593177Z",
     "iopub.status.busy": "2025-02-16T15:12:58.592830Z",
     "iopub.status.idle": "2025-02-16T15:12:58.597664Z",
     "shell.execute_reply": "2025-02-16T15:12:58.596960Z"
    },
    "papermill": {
     "duration": 0.010116,
     "end_time": "2025-02-16T15:12:58.598971",
     "exception": false,
     "start_time": "2025-02-16T15:12:58.588855",
     "status": "completed"
    },
    "tags": []
   },
   "outputs": [],
   "source": [
    "class TokenAndPositionEmbedding(layers.Layer):\n",
    "    def __init__(self, maxlen, vocab_size, embed_dim):\n",
    "        super().__init__()\n",
    "        self.token_emb = layers.Embedding(input_dim=vocab_size, output_dim=embed_dim)\n",
    "        self.pos_emb = layers.Embedding(input_dim=maxlen, output_dim=embed_dim)\n",
    "\n",
    "    def call(self, x):\n",
    "        maxlen = ops.shape(x)[-1]\n",
    "        positions = ops.arange(start=0, stop=maxlen, step=1)\n",
    "        positions = self.pos_emb(positions)\n",
    "        x = self.token_emb(x)\n",
    "        return x + positions"
   ]
  },
  {
   "cell_type": "markdown",
   "id": "3e9762a7",
   "metadata": {
    "papermill": {
     "duration": 0.003041,
     "end_time": "2025-02-16T15:12:58.605551",
     "exception": false,
     "start_time": "2025-02-16T15:12:58.602510",
     "status": "completed"
    },
    "tags": []
   },
   "source": [
    "# Download and prepare dataset"
   ]
  },
  {
   "cell_type": "code",
   "execution_count": 5,
   "id": "967a8526",
   "metadata": {
    "execution": {
     "iopub.execute_input": "2025-02-16T15:12:58.613194Z",
     "iopub.status.busy": "2025-02-16T15:12:58.612837Z",
     "iopub.status.idle": "2025-02-16T15:13:04.369741Z",
     "shell.execute_reply": "2025-02-16T15:13:04.368840Z"
    },
    "papermill": {
     "duration": 5.762973,
     "end_time": "2025-02-16T15:13:04.371691",
     "exception": false,
     "start_time": "2025-02-16T15:12:58.608718",
     "status": "completed"
    },
    "tags": []
   },
   "outputs": [
    {
     "name": "stdout",
     "output_type": "stream",
     "text": [
      "Downloading data from https://storage.googleapis.com/tensorflow/tf-keras-datasets/imdb.npz\n",
      "\u001b[1m17464789/17464789\u001b[0m \u001b[32m━━━━━━━━━━━━━━━━━━━━\u001b[0m\u001b[37m\u001b[0m \u001b[1m1s\u001b[0m 0us/step\n",
      "25000 Training sequences\n",
      "25000 Validation sequences\n"
     ]
    }
   ],
   "source": [
    "vocab_size = 20000  # Only consider the top 20k words\n",
    "maxlen = 200  # Only consider the first 200 words of each movie review\n",
    "(x_train, y_train), (x_val, y_val) = keras.datasets.imdb.load_data(num_words=vocab_size)\n",
    "print(len(x_train), \"Training sequences\")\n",
    "print(len(x_val), \"Validation sequences\")\n",
    "x_train = keras.utils.pad_sequences(x_train, maxlen=maxlen)\n",
    "x_val = keras.utils.pad_sequences(x_val, maxlen=maxlen)"
   ]
  },
  {
   "cell_type": "markdown",
   "id": "7ff0c28f",
   "metadata": {
    "papermill": {
     "duration": 0.007686,
     "end_time": "2025-02-16T15:13:04.387952",
     "exception": false,
     "start_time": "2025-02-16T15:13:04.380266",
     "status": "completed"
    },
    "tags": []
   },
   "source": [
    "# Create classifier model using transformer layer\n",
    "Transformer layer outputs one vector for each time step of our input sequence. Here, we take the mean across all time steps and use a feed forward network on top of it to classify text."
   ]
  },
  {
   "cell_type": "code",
   "execution_count": 6,
   "id": "c1d5b26f",
   "metadata": {
    "execution": {
     "iopub.execute_input": "2025-02-16T15:13:04.401848Z",
     "iopub.status.busy": "2025-02-16T15:13:04.401537Z",
     "iopub.status.idle": "2025-02-16T15:13:06.852632Z",
     "shell.execute_reply": "2025-02-16T15:13:06.851659Z"
    },
    "papermill": {
     "duration": 2.45829,
     "end_time": "2025-02-16T15:13:06.854276",
     "exception": false,
     "start_time": "2025-02-16T15:13:04.395986",
     "status": "completed"
    },
    "tags": []
   },
   "outputs": [],
   "source": [
    "embed_dim = 32  # Embedding size for each token\n",
    "num_heads = 2  # Number of attention heads\n",
    "ff_dim = 32  # Hidden layer size in feed forward network inside transformer\n",
    "\n",
    "inputs = layers.Input(shape=(maxlen,))\n",
    "embedding_layer = TokenAndPositionEmbedding(maxlen, vocab_size, embed_dim)\n",
    "x = embedding_layer(inputs)\n",
    "transformer_block = TransformerBlock(embed_dim, num_heads, ff_dim)\n",
    "x = transformer_block(x)\n",
    "x = layers.GlobalAveragePooling1D()(x)\n",
    "x = layers.Dropout(0.1)(x)\n",
    "x = layers.Dense(20, activation=\"relu\")(x)\n",
    "x = layers.Dropout(0.1)(x)\n",
    "outputs = layers.Dense(2, activation=\"softmax\")(x)\n",
    "\n",
    "model = keras.Model(inputs=inputs, outputs=outputs)"
   ]
  },
  {
   "cell_type": "markdown",
   "id": "5847affc",
   "metadata": {
    "papermill": {
     "duration": 0.004273,
     "end_time": "2025-02-16T15:13:06.863214",
     "exception": false,
     "start_time": "2025-02-16T15:13:06.858941",
     "status": "completed"
    },
    "tags": []
   },
   "source": [
    "# Train and Evaluate"
   ]
  },
  {
   "cell_type": "code",
   "execution_count": 7,
   "id": "10b02f2b",
   "metadata": {
    "execution": {
     "iopub.execute_input": "2025-02-16T15:13:06.873330Z",
     "iopub.status.busy": "2025-02-16T15:13:06.872956Z",
     "iopub.status.idle": "2025-02-16T15:15:31.348907Z",
     "shell.execute_reply": "2025-02-16T15:15:31.347870Z"
    },
    "papermill": {
     "duration": 144.483101,
     "end_time": "2025-02-16T15:15:31.350696",
     "exception": false,
     "start_time": "2025-02-16T15:13:06.867595",
     "status": "completed"
    },
    "tags": []
   },
   "outputs": [
    {
     "name": "stdout",
     "output_type": "stream",
     "text": [
      "Epoch 1/30\n",
      "\u001b[1m782/782\u001b[0m \u001b[32m━━━━━━━━━━━━━━━━━━━━\u001b[0m\u001b[37m\u001b[0m \u001b[1m19s\u001b[0m 14ms/step - accuracy: 0.7169 - loss: 0.5128 - val_accuracy: 0.8618 - val_loss: 0.3113\n",
      "Epoch 2/30\n",
      "\u001b[1m782/782\u001b[0m \u001b[32m━━━━━━━━━━━━━━━━━━━━\u001b[0m\u001b[37m\u001b[0m \u001b[1m4s\u001b[0m 6ms/step - accuracy: 0.9316 - loss: 0.1845 - val_accuracy: 0.8752 - val_loss: 0.3132\n",
      "Epoch 3/30\n",
      "\u001b[1m782/782\u001b[0m \u001b[32m━━━━━━━━━━━━━━━━━━━━\u001b[0m\u001b[37m\u001b[0m \u001b[1m4s\u001b[0m 5ms/step - accuracy: 0.9626 - loss: 0.1110 - val_accuracy: 0.8630 - val_loss: 0.3924\n",
      "Epoch 4/30\n",
      "\u001b[1m782/782\u001b[0m \u001b[32m━━━━━━━━━━━━━━━━━━━━\u001b[0m\u001b[37m\u001b[0m \u001b[1m4s\u001b[0m 6ms/step - accuracy: 0.9794 - loss: 0.0655 - val_accuracy: 0.8503 - val_loss: 0.4791\n",
      "Epoch 5/30\n",
      "\u001b[1m782/782\u001b[0m \u001b[32m━━━━━━━━━━━━━━━━━━━━\u001b[0m\u001b[37m\u001b[0m \u001b[1m4s\u001b[0m 5ms/step - accuracy: 0.9847 - loss: 0.0483 - val_accuracy: 0.8432 - val_loss: 0.6671\n",
      "Epoch 6/30\n",
      "\u001b[1m782/782\u001b[0m \u001b[32m━━━━━━━━━━━━━━━━━━━━\u001b[0m\u001b[37m\u001b[0m \u001b[1m4s\u001b[0m 5ms/step - accuracy: 0.9916 - loss: 0.0280 - val_accuracy: 0.8431 - val_loss: 0.6682\n",
      "Epoch 7/30\n",
      "\u001b[1m782/782\u001b[0m \u001b[32m━━━━━━━━━━━━━━━━━━━━\u001b[0m\u001b[37m\u001b[0m \u001b[1m4s\u001b[0m 5ms/step - accuracy: 0.9936 - loss: 0.0211 - val_accuracy: 0.8369 - val_loss: 0.7206\n",
      "Epoch 8/30\n",
      "\u001b[1m782/782\u001b[0m \u001b[32m━━━━━━━━━━━━━━━━━━━━\u001b[0m\u001b[37m\u001b[0m \u001b[1m4s\u001b[0m 5ms/step - accuracy: 0.9946 - loss: 0.0170 - val_accuracy: 0.8314 - val_loss: 0.8261\n",
      "Epoch 9/30\n",
      "\u001b[1m782/782\u001b[0m \u001b[32m━━━━━━━━━━━━━━━━━━━━\u001b[0m\u001b[37m\u001b[0m \u001b[1m4s\u001b[0m 6ms/step - accuracy: 0.9952 - loss: 0.0152 - val_accuracy: 0.8299 - val_loss: 1.0538\n",
      "Epoch 10/30\n",
      "\u001b[1m782/782\u001b[0m \u001b[32m━━━━━━━━━━━━━━━━━━━━\u001b[0m\u001b[37m\u001b[0m \u001b[1m4s\u001b[0m 5ms/step - accuracy: 0.9958 - loss: 0.0125 - val_accuracy: 0.8243 - val_loss: 1.1078\n",
      "Epoch 11/30\n",
      "\u001b[1m782/782\u001b[0m \u001b[32m━━━━━━━━━━━━━━━━━━━━\u001b[0m\u001b[37m\u001b[0m \u001b[1m4s\u001b[0m 6ms/step - accuracy: 0.9963 - loss: 0.0130 - val_accuracy: 0.8279 - val_loss: 1.0430\n",
      "Epoch 12/30\n",
      "\u001b[1m782/782\u001b[0m \u001b[32m━━━━━━━━━━━━━━━━━━━━\u001b[0m\u001b[37m\u001b[0m \u001b[1m4s\u001b[0m 5ms/step - accuracy: 0.9983 - loss: 0.0066 - val_accuracy: 0.8260 - val_loss: 1.2206\n",
      "Epoch 13/30\n",
      "\u001b[1m782/782\u001b[0m \u001b[32m━━━━━━━━━━━━━━━━━━━━\u001b[0m\u001b[37m\u001b[0m \u001b[1m4s\u001b[0m 5ms/step - accuracy: 0.9976 - loss: 0.0064 - val_accuracy: 0.8225 - val_loss: 1.6184\n",
      "Epoch 14/30\n",
      "\u001b[1m782/782\u001b[0m \u001b[32m━━━━━━━━━━━━━━━━━━━━\u001b[0m\u001b[37m\u001b[0m \u001b[1m4s\u001b[0m 5ms/step - accuracy: 0.9968 - loss: 0.0084 - val_accuracy: 0.8240 - val_loss: 1.0316\n",
      "Epoch 15/30\n",
      "\u001b[1m782/782\u001b[0m \u001b[32m━━━━━━━━━━━━━━━━━━━━\u001b[0m\u001b[37m\u001b[0m \u001b[1m4s\u001b[0m 5ms/step - accuracy: 0.9972 - loss: 0.0082 - val_accuracy: 0.8297 - val_loss: 1.1762\n",
      "Epoch 16/30\n",
      "\u001b[1m782/782\u001b[0m \u001b[32m━━━━━━━━━━━━━━━━━━━━\u001b[0m\u001b[37m\u001b[0m \u001b[1m4s\u001b[0m 5ms/step - accuracy: 0.9987 - loss: 0.0035 - val_accuracy: 0.8226 - val_loss: 1.6954\n",
      "Epoch 17/30\n",
      "\u001b[1m782/782\u001b[0m \u001b[32m━━━━━━━━━━━━━━━━━━━━\u001b[0m\u001b[37m\u001b[0m \u001b[1m4s\u001b[0m 5ms/step - accuracy: 0.9987 - loss: 0.0039 - val_accuracy: 0.8292 - val_loss: 1.3492\n",
      "Epoch 18/30\n",
      "\u001b[1m782/782\u001b[0m \u001b[32m━━━━━━━━━━━━━━━━━━━━\u001b[0m\u001b[37m\u001b[0m \u001b[1m4s\u001b[0m 6ms/step - accuracy: 0.9990 - loss: 0.0038 - val_accuracy: 0.8261 - val_loss: 1.3166\n",
      "Epoch 19/30\n",
      "\u001b[1m782/782\u001b[0m \u001b[32m━━━━━━━━━━━━━━━━━━━━\u001b[0m\u001b[37m\u001b[0m \u001b[1m4s\u001b[0m 6ms/step - accuracy: 0.9981 - loss: 0.0057 - val_accuracy: 0.8289 - val_loss: 1.3931\n",
      "Epoch 20/30\n",
      "\u001b[1m782/782\u001b[0m \u001b[32m━━━━━━━━━━━━━━━━━━━━\u001b[0m\u001b[37m\u001b[0m \u001b[1m4s\u001b[0m 5ms/step - accuracy: 0.9993 - loss: 0.0023 - val_accuracy: 0.8146 - val_loss: 1.6741\n",
      "Epoch 21/30\n",
      "\u001b[1m782/782\u001b[0m \u001b[32m━━━━━━━━━━━━━━━━━━━━\u001b[0m\u001b[37m\u001b[0m \u001b[1m4s\u001b[0m 5ms/step - accuracy: 0.9987 - loss: 0.0040 - val_accuracy: 0.8268 - val_loss: 1.3755\n",
      "Epoch 22/30\n",
      "\u001b[1m782/782\u001b[0m \u001b[32m━━━━━━━━━━━━━━━━━━━━\u001b[0m\u001b[37m\u001b[0m \u001b[1m4s\u001b[0m 5ms/step - accuracy: 0.9991 - loss: 0.0028 - val_accuracy: 0.8217 - val_loss: 1.4067\n",
      "Epoch 23/30\n",
      "\u001b[1m782/782\u001b[0m \u001b[32m━━━━━━━━━━━━━━━━━━━━\u001b[0m\u001b[37m\u001b[0m \u001b[1m4s\u001b[0m 5ms/step - accuracy: 0.9983 - loss: 0.0052 - val_accuracy: 0.8176 - val_loss: 1.3660\n",
      "Epoch 24/30\n",
      "\u001b[1m782/782\u001b[0m \u001b[32m━━━━━━━━━━━━━━━━━━━━\u001b[0m\u001b[37m\u001b[0m \u001b[1m4s\u001b[0m 5ms/step - accuracy: 0.9993 - loss: 0.0022 - val_accuracy: 0.8226 - val_loss: 1.6967\n",
      "Epoch 25/30\n",
      "\u001b[1m782/782\u001b[0m \u001b[32m━━━━━━━━━━━━━━━━━━━━\u001b[0m\u001b[37m\u001b[0m \u001b[1m4s\u001b[0m 5ms/step - accuracy: 0.9991 - loss: 0.0030 - val_accuracy: 0.8192 - val_loss: 1.7585\n",
      "Epoch 26/30\n",
      "\u001b[1m782/782\u001b[0m \u001b[32m━━━━━━━━━━━━━━━━━━━━\u001b[0m\u001b[37m\u001b[0m \u001b[1m4s\u001b[0m 6ms/step - accuracy: 0.9998 - loss: 0.0013 - val_accuracy: 0.8251 - val_loss: 1.6827\n",
      "Epoch 27/30\n",
      "\u001b[1m782/782\u001b[0m \u001b[32m━━━━━━━━━━━━━━━━━━━━\u001b[0m\u001b[37m\u001b[0m \u001b[1m4s\u001b[0m 5ms/step - accuracy: 0.9991 - loss: 0.0034 - val_accuracy: 0.8199 - val_loss: 2.0973\n",
      "Epoch 28/30\n",
      "\u001b[1m782/782\u001b[0m \u001b[32m━━━━━━━━━━━━━━━━━━━━\u001b[0m\u001b[37m\u001b[0m \u001b[1m4s\u001b[0m 5ms/step - accuracy: 0.9985 - loss: 0.0037 - val_accuracy: 0.8257 - val_loss: 1.4090\n",
      "Epoch 29/30\n",
      "\u001b[1m782/782\u001b[0m \u001b[32m━━━━━━━━━━━━━━━━━━━━\u001b[0m\u001b[37m\u001b[0m \u001b[1m4s\u001b[0m 5ms/step - accuracy: 0.9986 - loss: 0.0031 - val_accuracy: 0.8137 - val_loss: 1.8889\n",
      "Epoch 30/30\n",
      "\u001b[1m782/782\u001b[0m \u001b[32m━━━━━━━━━━━━━━━━━━━━\u001b[0m\u001b[37m\u001b[0m \u001b[1m4s\u001b[0m 5ms/step - accuracy: 0.9989 - loss: 0.0028 - val_accuracy: 0.8184 - val_loss: 2.0733\n"
     ]
    }
   ],
   "source": [
    "model.compile(\n",
    "    optimizer=\"adam\", loss=\"sparse_categorical_crossentropy\", metrics=[\"accuracy\"]\n",
    ")\n",
    "history = model.fit(\n",
    "    x_train, y_train, batch_size=32, epochs=30, validation_data=(x_val, y_val))"
   ]
  },
  {
   "cell_type": "code",
   "execution_count": 8,
   "id": "db0a2d4e",
   "metadata": {
    "execution": {
     "iopub.execute_input": "2025-02-16T15:15:31.544241Z",
     "iopub.status.busy": "2025-02-16T15:15:31.543821Z",
     "iopub.status.idle": "2025-02-16T15:15:32.906836Z",
     "shell.execute_reply": "2025-02-16T15:15:32.905983Z"
    },
    "papermill": {
     "duration": 1.460606,
     "end_time": "2025-02-16T15:15:32.908229",
     "exception": false,
     "start_time": "2025-02-16T15:15:31.447623",
     "status": "completed"
    },
    "tags": []
   },
   "outputs": [
    {
     "name": "stdout",
     "output_type": "stream",
     "text": [
      "\u001b[1m782/782\u001b[0m \u001b[32m━━━━━━━━━━━━━━━━━━━━\u001b[0m\u001b[37m\u001b[0m \u001b[1m1s\u001b[0m 2ms/step - accuracy: 0.8190 - loss: 2.0673\n",
      "Validation Loss: 2.0733\n",
      "Validation Accuracy: 0.8184\n"
     ]
    }
   ],
   "source": [
    "val_loss, val_accuracy = model.evaluate(x_val, y_val)\n",
    "print(f\"Validation Loss: {val_loss:.4f}\")\n",
    "print(f\"Validation Accuracy: {val_accuracy:.4f}\")\n",
    "\n"
   ]
  },
  {
   "cell_type": "code",
   "execution_count": 9,
   "id": "69036b1d",
   "metadata": {
    "execution": {
     "iopub.execute_input": "2025-02-16T15:15:33.160773Z",
     "iopub.status.busy": "2025-02-16T15:15:33.160464Z",
     "iopub.status.idle": "2025-02-16T15:15:36.339581Z",
     "shell.execute_reply": "2025-02-16T15:15:36.338565Z"
    },
    "papermill": {
     "duration": 3.338218,
     "end_time": "2025-02-16T15:15:36.341385",
     "exception": false,
     "start_time": "2025-02-16T15:15:33.003167",
     "status": "completed"
    },
    "tags": []
   },
   "outputs": [
    {
     "name": "stdout",
     "output_type": "stream",
     "text": [
      "\u001b[1m782/782\u001b[0m \u001b[32m━━━━━━━━━━━━━━━━━━━━\u001b[0m\u001b[37m\u001b[0m \u001b[1m3s\u001b[0m 2ms/step\n"
     ]
    }
   ],
   "source": [
    "y_pred = model.predict(x_val)\n",
    "y_pred_classes = (y_pred > 0.5).astype(\"int32\")  # Convert probabilities to class labels (0 or 1)\n"
   ]
  },
  {
   "cell_type": "code",
   "execution_count": 10,
   "id": "054af37c",
   "metadata": {
    "execution": {
     "iopub.execute_input": "2025-02-16T15:15:36.534518Z",
     "iopub.status.busy": "2025-02-16T15:15:36.534189Z",
     "iopub.status.idle": "2025-02-16T15:15:36.538010Z",
     "shell.execute_reply": "2025-02-16T15:15:36.537017Z"
    },
    "papermill": {
     "duration": 0.101874,
     "end_time": "2025-02-16T15:15:36.539601",
     "exception": false,
     "start_time": "2025-02-16T15:15:36.437727",
     "status": "completed"
    },
    "tags": []
   },
   "outputs": [],
   "source": [
    "# from sklearn.metrics import classification_report, confusion_matrix\n",
    "\n",
    "# # Flatten y_pred_classes and y_val to ensure both are 1D arrays\n",
    "# y_val_flat = y_val.flatten()\n",
    "# y_pred_classes_flat = y_pred_classes.flatten()\n",
    "\n",
    "# print(classification_report(y_val_flat, y_pred_classes_flat))\n",
    "# print(confusion_matrix(y_val_flat, y_pred_classes_flat))\n"
   ]
  },
  {
   "cell_type": "code",
   "execution_count": 11,
   "id": "3eef8418",
   "metadata": {
    "execution": {
     "iopub.execute_input": "2025-02-16T15:15:36.732655Z",
     "iopub.status.busy": "2025-02-16T15:15:36.732348Z",
     "iopub.status.idle": "2025-02-16T15:15:37.142954Z",
     "shell.execute_reply": "2025-02-16T15:15:37.141889Z"
    },
    "papermill": {
     "duration": 0.508066,
     "end_time": "2025-02-16T15:15:37.144582",
     "exception": false,
     "start_time": "2025-02-16T15:15:36.636516",
     "status": "completed"
    },
    "tags": []
   },
   "outputs": [
    {
     "data": {
      "image/png": "[encoded data removed]",
      "text/plain": [
       "<Figure size 1200x400 with 2 Axes>"
      ]
     },
     "metadata": {},
     "output_type": "display_data"
    }
   ],
   "source": [
    "\n",
    "import matplotlib.pyplot as plt\n",
    "\n",
    "plt.figure(figsize=(12, 4))\n",
    "plt.subplot(1, 2, 1)\n",
    "plt.plot(history.history[\"accuracy\"], label=\"Train Accuracy\")\n",
    "plt.plot(history.history[\"val_accuracy\"], label=\"Validation Accuracy\")\n",
    "plt.xlabel(\"Epochs\")\n",
    "plt.ylabel(\"Accuracy\")\n",
    "plt.legend()\n",
    "\n",
    "plt.subplot(1, 2, 2)\n",
    "plt.plot(history.history[\"loss\"], label=\"Train Loss\")\n",
    "plt.plot(history.history[\"val_loss\"], label=\"Validation Loss\")\n",
    "plt.xlabel(\"Epochs\")\n",
    "plt.ylabel(\"Loss\")\n",
    "plt.legend()\n",
    "\n",
    "plt.show()\n"
   ]
  },
  {
   "cell_type": "code",
   "execution_count": null,
   "id": "d9dbeba1",
   "metadata": {
    "papermill": {
     "duration": 0.098429,
     "end_time": "2025-02-16T15:15:37.342640",
     "exception": false,
     "start_time": "2025-02-16T15:15:37.244211",
     "status": "completed"
    },
    "tags": []
   },
   "outputs": [],
   "source": []
  }
 ],
 "metadata": {
  "kaggle": {
   "accelerator": "gpu",
   "dataSources": [],
   "dockerImageVersionId": 30887,
   "isGpuEnabled": true,
   "isInternetEnabled": true,
   "language": "python",
   "sourceType": "notebook"
  },
  "kernelspec": {
   "display_name": "Python 3",
   "language": "python",
   "name": "python3"
  },
  "language_info": {
   "codemirror_mode": {
    "name": "ipython",
    "version": 3
   },
   "file_extension": ".py",
   "mimetype": "text/x-python",
   "name": "python",
   "nbconvert_exporter": "python",
   "pygments_lexer": "ipython3",
   "version": "3.10.12"
  },
  "papermill": {
   "default_parameters": {},
   "duration": 177.959056,
   "end_time": "2025-02-16T15:15:40.416706",
   "environment_variables": {},
   "exception": null,
   "input_path": "__notebook__.ipynb",
   "output_path": "__notebook__.ipynb",
   "parameters": {},
   "start_time": "2025-02-16T15:12:42.457650",
   "version": "2.6.0"
  }
 },
 "nbformat": 4,
 "nbformat_minor": 5
}
