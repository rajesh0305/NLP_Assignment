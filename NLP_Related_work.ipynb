{
  "nbformat": 4,
  "nbformat_minor": 0,
  "metadata": {
    "colab": {
      "provenance": [],
      "gpuType": "T4",
      "authorship_tag": "ABX9TyNUust55fDCm76k8ESNmO2s",
      "include_colab_link": true
    },
    "kernelspec": {
      "name": "python3",
      "display_name": "Python 3"
    },
    "language_info": {
      "name": "python"
    },
    "accelerator": "GPU"
  },
  "cells": [
    {
      "cell_type": "markdown",
      "metadata": {
        "id": "view-in-github",
        "colab_type": "text"
      },
      "source": [
        "<a href=\"https://colab.research.google.com/github/rajesh0305/NLP_Assignment/blob/main/NLP_Related_work.ipynb\" target=\"_parent\"><img src=\"https://colab.research.google.com/assets/colab-badge.svg\" alt=\"Open In Colab\"/></a>"
      ]
    },
    {
      "cell_type": "code",
      "execution_count": 1,
      "metadata": {
        "id": "XWzXTfa-b_ri"
      },
      "outputs": [],
      "source": [
        "import numpy as np\n",
        "import pandas as pd\n",
        "import matplotlib.pyplot as plt\n",
        "import seaborn as sns\n",
        "import warnings\n",
        "warnings.filterwarnings('ignore')"
      ]
    },
    {
      "cell_type": "markdown",
      "source": [
        "**1. Regular Expression**"
      ],
      "metadata": {
        "id": "W0RpOUVhf5LQ"
      }
    },
    {
      "cell_type": "markdown",
      "source": [
        "1.1 findall():This function is use dto find the number in between the given set of string"
      ],
      "metadata": {
        "id": "aNnsDQodhWYt"
      }
    },
    {
      "cell_type": "code",
      "source": [
        "import nltk\n",
        "import re # this module required for the regular expression\n",
        "\n",
        "# s1= \"my 2 favourite number are 19 and 100\"\n",
        "# list1 = re.findall('[0-9]+',s1) #\n",
        "# print(list1)\n",
        "\n",
        "chat1=\"hello my mobile number is 8368568773 and 2334232211\"\n",
        "chat2 = \"hello my landline number is (123)-567-8912 and (234)-876-543\"\n",
        "chat3 = \"hello my mobile number is 8368568773 and 2334232211 or my landline number is (123)-567-8912 and (234)-876-543\"\n",
        "pattern = \"\\d{10}\"\n",
        "print(re.findall(pattern,chat1))\n",
        "pattern1 = \"\\(\\d{3}\\)-\\d{3}-\\d{4}\"\n",
        "print(re.findall(pattern1,chat2))\n",
        "\n",
        "# finding these two pattern in one time\n",
        "pattern3 = \"\\d{10}|\\(\\d{3}\\)-\\d{3}-\\d{4}\"\n",
        "print(re.findall(pattern3,chat3))\n",
        "\n",
        "#finding the Email_id from the given text\n",
        "chat4 = \"hi my name is rajesh kumar hello my mobile number is 8368568773 and 2334232211 or my landline number is (123)-567-8912 and (234)-876-543 and i have multiple emialid like rk1233@gmail.com,wee23@gmail.com,kk1234@gmail.com\"\n",
        "pattern4 = \"[a-z0-9A-Z_]*@[a-z0-9A-Z_]*\\.[a-zA-Z_]*\"\n",
        "print(re.findall(pattern4,chat4))\n",
        "\n",
        "#finding the Any Order id number from the given text\n",
        "chat5= \"hello, i am having an issue with my order #412889912\"\n",
        "chat6 = \"i have a problem with my order number 412889912\"\n",
        "chat7 = \"my order 412889912 is having an issue\"\n",
        "pattern5 = \"order[^\\d]*(\\d*)\"\n",
        "print(re.findall(pattern5,chat5))\n",
        "print(re.findall(pattern5,chat6))\n",
        "print(re.findall(pattern5,chat7))"
      ],
      "metadata": {
        "colab": {
          "base_uri": "https://localhost:8080/"
        },
        "id": "M4FesdY-f4b0",
        "outputId": "10b4f4ec-4ddf-4796-922c-357c16d0721f"
      },
      "execution_count": 15,
      "outputs": [
        {
          "output_type": "stream",
          "name": "stdout",
          "text": [
            "['8368568773', '2334232211']\n",
            "['(123)-567-8912']\n",
            "['8368568773', '2334232211', '(123)-567-8912']\n",
            "['rk1233@gmail.com', 'wee23@gmail.com', 'kk1234@gmail.com']\n",
            "['412889912']\n",
            "['412889912']\n",
            "['412889912']\n"
          ]
        }
      ]
    },
    {
      "cell_type": "markdown",
      "source": [
        "**2. Information Extraction from the text**"
      ],
      "metadata": {
        "id": "41qpSFGmyl7Z"
      }
    },
    {
      "cell_type": "code",
      "source": [
        "text= \"Born\tElon Reeve Musk June 28, 1971 (age 53) \\\n",
        "Pretoria, Transvaal, South Africa\\\n",
        "Citizenship\t\"\n",
        "South Africa\\\n",
        "Canada\\\n",
        "United States (from 2002)\\\n",
        "Education\tUniversity of Pennsylvania (BA, BS)\\\n",
        "Title\t\\\n",
        "Founder, CEO, and chief engineer of SpaceX\\\n",
        "CEO and product architect of Tesla, Inc.\\\n",
        "Owner, CTO and Executive Chairman of X (formerly Twitter)\\\n",
        "President of the Musk Foundation\\\n",
        "Founder of The Boring Company, X Corp., and xAI\\\n",
        "Co-founder of Neuralink, OpenAI, Zip2, and X.com (part of PayPal)\\\n",
        "# This is not python code, and has no syntax errors.\\\n",
        "Spouses\t\\\n",
        "Justine Wilson\\\n",
        "​(m. 2000; div. 2008)\\​\n",
        "Talulah Riley\\\n",
        "​(m. 2010; div. 2012)\\​\n",
        "​(m. 2013; div. 2016)​\\\n",
        "Partners\t\\\n",
        "Grimes (2018–2021)[1]\\\n",
        "Children\t12[2]\\\n",
        "Parents\t\\\n",
        "Errol Musk\\\n",
        "Maye Musk\\\n",
        "Relatives\t\\\n",
        "Kimbal Musk (brother)\\\n",
        "Tosca Musk (sister)\\\n",
        "Lyndon Rive (cousin)\\\n",
        "Awards\tFull list\""
      ],
      "metadata": {
        "id": "sfeY3jDgetXZ",
        "colab": {
          "base_uri": "https://localhost:8080/",
          "height": 106
        },
        "outputId": "d080b859-c1ff-4bec-e12b-b0d91c7b6cc2"
      },
      "execution_count": 18,
      "outputs": [
        {
          "output_type": "error",
          "ename": "SyntaxError",
          "evalue": "unterminated string literal (detected at line 18) (<ipython-input-18-fde24e682466>, line 1)",
          "traceback": [
            "\u001b[0;36m  File \u001b[0;32m\"<ipython-input-18-fde24e682466>\"\u001b[0;36m, line \u001b[0;32m1\u001b[0m\n\u001b[0;31m    text= \"Born\tElon Reeve Musk June 28, 1971 (age 53) \\\u001b[0m\n\u001b[0m          ^\u001b[0m\n\u001b[0;31mSyntaxError\u001b[0m\u001b[0;31m:\u001b[0m unterminated string literal (detected at line 18)\n"
          ]
        }
      ]
    },
    {
      "cell_type": "code",
      "source": [],
      "metadata": {
        "id": "6Tc9c2xnfOr0"
      },
      "execution_count": null,
      "outputs": []
    }
  ]
}